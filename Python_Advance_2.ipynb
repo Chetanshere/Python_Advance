{
 "cells": [
  {
   "cell_type": "markdown",
   "id": "28751100",
   "metadata": {},
   "source": [
    "# Q1. What is the relationship between classes and modules?"
   ]
  },
  {
   "cell_type": "markdown",
   "id": "6e038964",
   "metadata": {},
   "source": [
    "Class:\n",
    "\n",
    "    1. A Class is like an object constructor, or a \"blueprint\" for creating objects.\n",
    "    \n",
    "    2. a class can be instantiated.\n",
    "    \n",
    "    3. Class can hold its state (by keeping track of instance variables)\n",
    "    \n",
    "    4. class be duplicated as many times as you want by creating objects(instances)\n",
    "\n",
    "Module:\n",
    "\n",
    "    1. A module is a file containing Python definitions and statements. The file name is the module name with \n",
    "       the suffix .py appended. Within a module, the module’s name (as a string) is available as the value of \n",
    "       the global variable __name__. \n",
    "    \n",
    "    2. Modules can be imported.\n",
    "    \n",
    "    3. Module methods can be included or extended into instance methods.|"
   ]
  },
  {
   "cell_type": "markdown",
   "id": "b24e865c",
   "metadata": {},
   "source": [
    "# Q2. How do you make instances and classes?"
   ]
  },
  {
   "cell_type": "markdown",
   "id": "0148d1c6",
   "metadata": {},
   "source": [
    "Instances To create instances of a class, we call the class using class name and pass in whatever arguments its init method accepts.\n",
    "\n",
    "Ex objclass = ClasseA(2,4)\n",
    "\n",
    "objclass is instance of class.\n",
    "\n",
    "Classes A class is a user-defined blueprint or prototype from which objects are created.\n",
    "\n",
    "  ex : def classA:\n",
    "        \n",
    "        pass    "
   ]
  },
  {
   "cell_type": "markdown",
   "id": "c9c083dc",
   "metadata": {},
   "source": [
    "# Q3. Where and how should be class attributes created?"
   ]
  },
  {
   "cell_type": "markdown",
   "id": "2e36bfdb",
   "metadata": {},
   "source": [
    "A class attribute is a Python variable that belongs to a class rather than a particular object. It is shared between all the \n",
    "\n",
    "objects of this class and it is defined outside the constructor function, init(self,...), of the class.\n",
    "\n",
    "The below ExampleClass is a basic Python class with two attributes: class_attr\n",
    "\n",
    "class ExampleClass(object):\n",
    "\n",
    "     class_attr = 0\n",
    "\n",
    "     def __init__(self, instance_attr):\n",
    "     self.instance_attr = instance_attr\n",
    "\n",
    "The class attribute (class_attr) is accessible as both a property of the class and as a property of objects, as it is shared \n",
    "\n",
    "between all of them"
   ]
  },
  {
   "cell_type": "markdown",
   "id": "85a8b61a",
   "metadata": {},
   "source": [
    "# Q4. Where and how are instance attributes created?"
   ]
  },
  {
   "cell_type": "markdown",
   "id": "25f28f3e",
   "metadata": {},
   "source": [
    "An instance attribute is a Python variable belonging to one, and only one, object. This variable is only accessible in the scope \n",
    "\n",
    "of this object and it is defined inside the constructor function, init(self,..) of the class.\n",
    "\n",
    "   class ExampleClass(object):\n",
    "   class_attr = 0\n",
    "\n",
    "      def __init__(self, instance_attr):\n",
    "      self.instance_attr = instance_attr\n",
    "\n",
    "\n",
    "The instance_attr is only accessible from the scope of an object\n",
    "\n",
    "Notice that the class attribute can be accessed as a class property and as an instance property, however, accessing an instance \n",
    "\n",
    "attribute as a class property raises an AttributeError.\n"
   ]
  },
  {
   "cell_type": "markdown",
   "id": "75cdac82",
   "metadata": {},
   "source": [
    "# Q5. What does the term &quot;self&quot; in a Python class mean?"
   ]
  },
  {
   "cell_type": "markdown",
   "id": "9782a197",
   "metadata": {},
   "source": [
    "The self parameter is a reference to the current instance of the class, and is used to access variables that belongs to the \n",
    "\n",
    "class. It does not have to be named self , you can call it whatever you like, but it has to be the first parameter of any \n",
    "\n",
    "function in the class"
   ]
  },
  {
   "cell_type": "markdown",
   "id": "32801b08",
   "metadata": {},
   "source": [
    "# Q6. How does a Python class handle operator overloading?"
   ]
  },
  {
   "cell_type": "markdown",
   "id": "6461d883",
   "metadata": {},
   "source": [
    "To achieve operator overloading, we define a special method in a class definition. The name of the method should begin and end \n",
    "\n",
    "with a double underscore (_). The + operator is overloaded using a special method named add() . This method is implemented by \n",
    "\n",
    "both the int and str classes.\n",
    "\n",
    "following are some of the operator overloading magic function from python\n",
    "\n",
    "'+' \t__add__(self, other)\n",
    "\n",
    "'–' \t__sub__(self, other)\n",
    "\n",
    "'*' \t__mul__(self, other)\n",
    "\n",
    "'/' \t__truediv__(self, other)\n",
    "\n",
    "'//'\t__floordiv__(self, other)\n",
    "\n",
    "'%' \t__mod__(self, other)\n",
    "\n",
    "'**'\t__pow__(self, other)"
   ]
  },
  {
   "cell_type": "markdown",
   "id": "9b414b13",
   "metadata": {},
   "source": [
    "# Q7. When do you consider allowing operator overloading of your classes?"
   ]
  },
  {
   "cell_type": "markdown",
   "id": "c040ef4e",
   "metadata": {},
   "source": [
    "Consider that we have two objects which are a physical representation of a class (user-defined data type) and we have to add two \n",
    "\n",
    "objects with binary ‘+’ operator it throws an error, because compiler don’t know how to add two objects. So we define a method \n",
    "\n",
    "for an operator and that process is called operator overloading. Now the + operator will perform arithmetic addition on two \n",
    "\n",
    "numbers, merge two lists, or concatenate two strings."
   ]
  },
  {
   "cell_type": "markdown",
   "id": "3875a305",
   "metadata": {},
   "source": [
    "# Q8. What is the most popular form of operator overloading?"
   ]
  },
  {
   "cell_type": "markdown",
   "id": "19583686",
   "metadata": {},
   "source": [
    "The + Operator is most popular operator overloding. When we use + operator, the magic method add is automatically invoked in \n",
    "\n",
    "which the operation for + operator is defined. There by changing this magic method’s code, we can give extra meaning to the + \n",
    "\n",
    "operator. Python operators work for built-in classes. But the same operator behaves differently with different types. For \n",
    "\n",
    "example, the + operator will perform arithmetic addition on two numbers, merge two lists, or concatenate two strings.\n",
    "\n",
    "\n",
    "This feature in Python that allows the same operator to have different meaning according to the context is called operator \n",
    "\n",
    "overloading."
   ]
  },
  {
   "cell_type": "markdown",
   "id": "a0dbd9bd",
   "metadata": {},
   "source": [
    "# Q9. What are the two most important concepts to grasp in order to comprehend Python OOP code?"
   ]
  },
  {
   "cell_type": "markdown",
   "id": "cc98937c",
   "metadata": {},
   "source": [
    "The tow most important concept in order to comprehend python oop code are Classes and objects. where, classes represent and \n",
    "\n",
    "define concepts, while objects are instances of classes"
   ]
  }
 ],
 "metadata": {
  "kernelspec": {
   "display_name": "Python 3 (ipykernel)",
   "language": "python",
   "name": "python3"
  },
  "language_info": {
   "codemirror_mode": {
    "name": "ipython",
    "version": 3
   },
   "file_extension": ".py",
   "mimetype": "text/x-python",
   "name": "python",
   "nbconvert_exporter": "python",
   "pygments_lexer": "ipython3",
   "version": "3.9.12"
  }
 },
 "nbformat": 4,
 "nbformat_minor": 5
}
