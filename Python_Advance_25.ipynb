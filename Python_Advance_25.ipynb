{
 "cells": [
  {
   "cell_type": "markdown",
   "id": "8ec81120",
   "metadata": {},
   "source": [
    "## Q1. What is the distinction between a numpy array and a pandas data frame? Is there a way to convert between the two if there is?"
   ]
  },
  {
   "cell_type": "markdown",
   "id": "94920cb0",
   "metadata": {},
   "source": [
    "1. Numpy arrays can be multi-dimensional whereas DataFrame can only be two-dimensional.\n",
    "\n",
    "2. Arrays contain similar types of objects or elements whereas DataFrame can have objects or multiple or similar data types.\n",
    "\n",
    "3. Both array and DataFrames are mutable.\n",
    "\n",
    "4. Elements in an array can be accessed using only integer positions whereas elements in a DataFrame can be accessed using both integer and index positions.\n",
    "\n",
    "5. DataFrames are mostly in the form of SQL tables and are associated with tabular data whereas arrays are associated with numerical data and computation.\n",
    "\n",
    "6. DataFrames can deal with dynamic data and mixed data types whereas arrays do not have the flexibility to handle such data.\n",
    "\n",
    "\n",
    "* To convert numpy array into pandas dataframe , we can use pandas.DataFrame() function."
   ]
  },
  {
   "cell_type": "markdown",
   "id": "75cc48aa",
   "metadata": {},
   "source": [
    "## Q2. What can go wrong when an user enters in a stock-ticker symbol, and how do you handle it?"
   ]
  },
  {
   "cell_type": "markdown",
   "id": "6c0e6dcc",
   "metadata": {},
   "source": [
    "When a user enters in a stock-ticker symbol he/she may enter wrong stock symbol, in order to tackle that we can provide the users the option of recommendations."
   ]
  },
  {
   "cell_type": "markdown",
   "id": "b9b9ac0e",
   "metadata": {},
   "source": [
    "## Q3. Identify some of the plotting techniques that are used to produce a stock-market chart."
   ]
  },
  {
   "cell_type": "markdown",
   "id": "4d85146c",
   "metadata": {},
   "source": [
    "Bar chart, Line Chart are used for plotting."
   ]
  },
  {
   "cell_type": "markdown",
   "id": "1fec618e",
   "metadata": {},
   "source": [
    "## Q4. Why is it essential to print a legend on a stock market chart?"
   ]
  },
  {
   "cell_type": "markdown",
   "id": "45941f5c",
   "metadata": {},
   "source": [
    " Legend will help comparison between different stocks, so will be essential on a stock market chart"
   ]
  },
  {
   "cell_type": "markdown",
   "id": "abc009fe",
   "metadata": {},
   "source": [
    "## Q5. What is the best way to limit the length of a pandas data frame to less than a year?"
   ]
  },
  {
   "cell_type": "markdown",
   "id": "c2c2cd88",
   "metadata": {},
   "source": [
    " We can use start and end parameters for that. In start we write the date from where we are starting and at the end we write the end date. SO within this span we can restric the duration.Also we can use the parameters like periods for how much times we need the duration and we can also use the frequency parameter."
   ]
  },
  {
   "cell_type": "markdown",
   "id": "c88f626b",
   "metadata": {},
   "source": [
    "## Q6. What is the definition of a 180-day moving average?"
   ]
  },
  {
   "cell_type": "markdown",
   "id": "c0189ff7",
   "metadata": {},
   "source": [
    "The 180-day moving average is represented as a line on charts and represents the average price over the past 180 days. The moving average can give traders a sense regarding whether the trend is up or down, while also identifying potential support or resistance areas."
   ]
  },
  {
   "cell_type": "markdown",
   "id": "d8677918",
   "metadata": {},
   "source": [
    "## Q7. Did the chapter&#39;s final example use &quot;indirect&quot; importing? If so, how exactly do you do it?"
   ]
  },
  {
   "cell_type": "markdown",
   "id": "23854ca1",
   "metadata": {},
   "source": [
    "Yes it used the \"indirect\" importing. When another call to import the same module from somewhere else, Python recognizes that the module has already been imported, so it only creates a reference link to the new module that called import. "
   ]
  }
 ],
 "metadata": {
  "kernelspec": {
   "display_name": "Python 3 (ipykernel)",
   "language": "python",
   "name": "python3"
  },
  "language_info": {
   "codemirror_mode": {
    "name": "ipython",
    "version": 3
   },
   "file_extension": ".py",
   "mimetype": "text/x-python",
   "name": "python",
   "nbconvert_exporter": "python",
   "pygments_lexer": "ipython3",
   "version": "3.9.12"
  }
 },
 "nbformat": 4,
 "nbformat_minor": 5
}
