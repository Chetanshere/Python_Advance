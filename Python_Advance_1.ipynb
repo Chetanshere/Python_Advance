{
 "cells": [
  {
   "cell_type": "markdown",
   "id": "ab0bea57",
   "metadata": {},
   "source": [
    "Q1. What is the purpose of Python&#39;s OOP?"
   ]
  },
  {
   "cell_type": "markdown",
   "id": "eb0f79ce",
   "metadata": {},
   "source": [
    "1) Data is safe and secure with data abstraction.\n",
    "\n",
    "2) Object-Oriented Programming makes the program easy to understand as well as efficient.\n",
    "\n",
    "3) Polymorphism allows the same interface for different objects, so programmers can write efficient code\n",
    "\n",
    "4) Inherit feature allows programmer to inhetit the methods from existing programs.\n",
    "\n",
    "5) Since the class is sharable, the code can be reused."
   ]
  },
  {
   "cell_type": "markdown",
   "id": "de55f50c",
   "metadata": {},
   "source": [
    "Q2. Where does an inheritance search look for an attribute?"
   ]
  },
  {
   "cell_type": "markdown",
   "id": "2d73fb2c",
   "metadata": {},
   "source": [
    "The inheritance search happens in bottom up fashion. its starts form object.attr and search all the way up to the parent class to find the find the first occurrence of attribute by looking in object, then in all classes above it, from bottom to top and left to right"
   ]
  },
  {
   "cell_type": "markdown",
   "id": "d9e0c50a",
   "metadata": {},
   "source": [
    "Q3. How do you distinguish between a class object and an instance object?"
   ]
  },
  {
   "cell_type": "markdown",
   "id": "99ca330e",
   "metadata": {},
   "source": [
    "Class Object - when we create a class , a class object is created.The class name itself is class object. we can access class variable using this class namem\n",
    "\n",
    "\n",
    "Instance Object - when we access class with paranthesis like test(), this will creat a instance of a class. we can have n numbers of instance objects for same class."
   ]
  },
  {
   "cell_type": "code",
   "execution_count": 3,
   "id": "2b504908",
   "metadata": {},
   "outputs": [
    {
     "name": "stdout",
     "output_type": "stream",
     "text": [
      "12.87\n"
     ]
    }
   ],
   "source": [
    "# class obj:\n",
    "class wdb:\n",
    "    x = 12.87\n",
    "    def __init__(self,a,b):\n",
    "        self.a = a\n",
    "        self.b = b\n",
    "print(wdb.x)"
   ]
  },
  {
   "cell_type": "code",
   "execution_count": 6,
   "id": "fa779b58",
   "metadata": {},
   "outputs": [
    {
     "data": {
      "text/plain": [
       "8"
      ]
     },
     "execution_count": 6,
     "metadata": {},
     "output_type": "execute_result"
    }
   ],
   "source": [
    "#Instance obj\n",
    "instObj = wdb(8,36)\n",
    "instObj.a"
   ]
  },
  {
   "cell_type": "markdown",
   "id": "403a2738",
   "metadata": {},
   "source": [
    "Q4. What makes the first argument in a class’s method function special?"
   ]
  },
  {
   "cell_type": "markdown",
   "id": "743c1e1a",
   "metadata": {},
   "source": [
    "The keyword self represents the instance of a class and binds the attributes with the given arguments"
   ]
  },
  {
   "cell_type": "markdown",
   "id": "84fdfd70",
   "metadata": {},
   "source": [
    "Q5. What is the purpose of the '__init__ 'method?"
   ]
  },
  {
   "cell_type": "markdown",
   "id": "12d4f6d0",
   "metadata": {},
   "source": [
    "__init__ is a reseved method in python classes. This method called when an object is created from the class and it allow the class to initialize the attributes of a class"
   ]
  },
  {
   "cell_type": "markdown",
   "id": "7406bf85",
   "metadata": {},
   "source": [
    "Q6. What is the process for creating a class instance?"
   ]
  },
  {
   "cell_type": "markdown",
   "id": "88027f3c",
   "metadata": {},
   "source": [
    "-Create a class\n",
    "\n",
    "-call the class using class name and assign it to a variable (object variable)\n",
    "\n",
    "-pass in whatever arguments its init method accepts"
   ]
  },
  {
   "cell_type": "code",
   "execution_count": 8,
   "id": "e766e8e2",
   "metadata": {},
   "outputs": [],
   "source": [
    "class Car:\n",
    "\n",
    "    def __init__(self, carname, price):\n",
    "        self.carname = carname\n",
    "        self.price = price\n",
    "        \n",
    "objClass = Car('creta','1800000')"
   ]
  },
  {
   "cell_type": "markdown",
   "id": "8e431c70",
   "metadata": {},
   "source": [
    "Q7. What is the process for creating a class?"
   ]
  },
  {
   "cell_type": "markdown",
   "id": "d2bea16b",
   "metadata": {},
   "source": [
    "* class definition starts with keyword class\n",
    "* follwed by classname and ':'\n",
    "* class will have doc string\n",
    "* class should have at least one statements."
   ]
  },
  {
   "cell_type": "code",
   "execution_count": 10,
   "id": "d687d96f",
   "metadata": {},
   "outputs": [],
   "source": [
    "class Chetan_shere:\n",
    "    '''doc string'''\n",
    "    pass"
   ]
  },
  {
   "cell_type": "markdown",
   "id": "c51f37d4",
   "metadata": {},
   "source": [
    "Q8. How would you define the superclasses of a class?"
   ]
  },
  {
   "cell_type": "markdown",
   "id": "32d7a9c3",
   "metadata": {},
   "source": [
    "* The class from which a class inherits is called the parent or superclass"
   ]
  }
 ],
 "metadata": {
  "kernelspec": {
   "display_name": "Python 3 (ipykernel)",
   "language": "python",
   "name": "python3"
  },
  "language_info": {
   "codemirror_mode": {
    "name": "ipython",
    "version": 3
   },
   "file_extension": ".py",
   "mimetype": "text/x-python",
   "name": "python",
   "nbconvert_exporter": "python",
   "pygments_lexer": "ipython3",
   "version": "3.9.12"
  }
 },
 "nbformat": 4,
 "nbformat_minor": 5
}
